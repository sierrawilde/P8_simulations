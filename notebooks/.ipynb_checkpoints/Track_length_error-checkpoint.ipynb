{
 "cells": [
  {
   "cell_type": "code",
   "execution_count": 1,
   "metadata": {},
   "outputs": [
    {
     "data": {
      "text/html": [
       "<style>.container { width:100% !important; }</style>"
      ],
      "text/plain": [
       "<IPython.core.display.HTML object>"
      ]
     },
     "metadata": {},
     "output_type": "display_data"
    }
   ],
   "source": [
    "import numpy as np\n",
    "import json\n",
    "import matplotlib.pyplot as plt\n",
    "from matplotlib import colors\n",
    "import os\n",
    "#from ReadKTOutputFile import *\n",
    "from IPython.core.display import display, HTML\n",
    "display(HTML(\"<style>.container { width:100% !important; }</style>\"))"
   ]
  },
  {
   "cell_type": "code",
   "execution_count": 2,
   "metadata": {},
   "outputs": [],
   "source": [
    "filepath = '../data_from_Christine/uniform_power_and_slope.json'\n",
    "with open(filepath) as infile:\n",
    "    a = json.load(infile)"
   ]
  },
  {
   "cell_type": "code",
   "execution_count": 3,
   "metadata": {},
   "outputs": [],
   "source": [
    "#a list of the true and reconstructed track start and end times\n",
    "true_track_start_times_load = []\n",
    "recon_track_start_times_load = []\n",
    "true_track_end_times_load = []\n",
    "recon_track_end_times_load = []\n",
    "true_freq_load = []\n",
    "recon_freq_load = []\n",
    "\n",
    "for event in a.keys():\n",
    "    true_track_start_times_load.append(a[event]['start_times_true'])\n",
    "    recon_track_start_times_load.append(a[event]['track_start_times_recon'])\n",
    "    true_track_end_times_load.append(a[event]['end_times_true'])\n",
    "    recon_track_end_times_load.append(a[event]['track_end_times_recon'])\n",
    "    true_freq_load.append(a[event]['start_frequencies_true'][0])\n",
    "    recon_freq_load.append(a[event]['event_start_frequencies_recon'])"
   ]
  },
  {
   "cell_type": "code",
   "execution_count": 4,
   "metadata": {},
   "outputs": [],
   "source": [
    "#removing events that weren't reconstructed\n",
    "true_start_times = []\n",
    "recon_start_times = []\n",
    "true_end_times = []\n",
    "recon_end_times = []\n",
    "true_freq = []\n",
    "recon_freq = []\n",
    "\n",
    "for i in range(len(recon_track_end_times_load)):\n",
    "    if len(recon_freq_load[i]) > 1:\n",
    "        recon_freq_load[i] = [recon_freq_load[i][0]]\n",
    "    if (len(recon_track_end_times_load[i]) > 0) and (len(recon_track_start_times_load[i]) > 0) and (len(recon_freq_load[i]) > 0):\n",
    "        true_start_times.append(true_track_start_times_load[i])\n",
    "        recon_start_times.append(recon_track_start_times_load[i])\n",
    "        true_end_times.append(true_track_end_times_load[i])\n",
    "        recon_end_times.append(recon_track_end_times_load[i])\n",
    "        true_freq.append(true_freq_load[i])\n",
    "        recon_freq.append(recon_freq_load[i])"
   ]
  },
  {
   "cell_type": "code",
   "execution_count": 5,
   "metadata": {},
   "outputs": [],
   "source": [
    "#calculating the frequency error\n",
    "recon_freq = np.hstack(recon_freq)\n",
    "#print(len(rec_freq_list))\n",
    "rec_freq = (recon_freq+24.5e9+1.4e9-50e6)\n",
    "true_freq = np.asarray(true_freq)\n",
    "freq_error = rec_freq/1e3 - true_freq/1e3"
   ]
  },
  {
   "cell_type": "code",
   "execution_count": 6,
   "metadata": {},
   "outputs": [],
   "source": [
    "#calculating the track lengths\n",
    "#converting them into arrays to make this calculation easier\n",
    "true_start_times_arr = np.array([np.array(i) for i in true_start_times])\n",
    "recon_start_times_arr = np.array([np.array(i) for i in recon_start_times])\n",
    "true_end_times_arr = np.array([np.array(i) for i in true_end_times])\n",
    "recon_end_times_arr = np.array([np.array(i) for i in recon_end_times])\n",
    "\n",
    "true_track_lengths = true_end_times_arr - true_start_times_arr\n",
    "recon_track_lengths = recon_end_times_arr - recon_start_times_arr"
   ]
  },
  {
   "cell_type": "code",
   "execution_count": 7,
   "metadata": {},
   "outputs": [
    {
     "name": "stdout",
     "output_type": "stream",
     "text": [
      "0.0023716855514673823 2.3116221610497423e-10\n"
     ]
    }
   ],
   "source": [
    "#find the min and max length\n",
    "length_max_r = None\n",
    "length_min_r = None\n",
    "length_max_s = None\n",
    "length_min_s = None\n",
    "for sim, recon in zip(true_track_lengths, recon_track_lengths):\n",
    "    if length_max_r == None:\n",
    "        length_max_r = np.max(recon)\n",
    "    elif length_max_r < np.max(recon):\n",
    "        length_max_r = np.max(recon)\n",
    "    \n",
    "    if length_min_r == None:\n",
    "        length_min_r = np.min(recon)\n",
    "    elif length_min_r > np.min(recon):\n",
    "        length_min_r = np.min(recon)\n",
    "        \n",
    "    if length_max_s == None:\n",
    "        length_max_s = np.max(sim)\n",
    "    elif length_max_s < np.max(sim):\n",
    "        length_max_s = np.max(sim)\n",
    "    \n",
    "    if length_min_s == None:\n",
    "        length_min_s = np.min(sim)\n",
    "    elif length_min_s > np.min(sim):\n",
    "        length_min_s = np.min(sim)\n",
    "\n",
    "length_max = np.max([length_max_r, length_max_s])\n",
    "length_min = np.min([length_min_r, length_min_s])\n",
    "print(length_max, length_min)"
   ]
  },
  {
   "cell_type": "code",
   "execution_count": 8,
   "metadata": {},
   "outputs": [
    {
     "data": {
      "image/png": "[encoded data removed]",
      "text/plain": [
       "<Figure size 504x360 with 1 Axes>"
      ]
     },
     "metadata": {
      "needs_background": "light"
     },
     "output_type": "display_data"
    }
   ],
   "source": [
    "######################## simulation vs reconstruction plots\n",
    "plt.figure(figsize=(7,5))\n",
    "##total counts per track length\n",
    "plt.tight_layout()\n",
    "bins = np.arange(length_min, length_max, 0.0001)\n",
    "#flattening the list of lists of the track lengths to make a histogram\n",
    "true_lengths_flat = [length for event in true_track_lengths for length in event]\n",
    "recon_lengths_flat = [length for event in recon_track_lengths for length in event]\n",
    "n0, b0, p0 = plt.hist(true_lengths_flat, histtype='step', label='simulated track lengths', bins=bins)\n",
    "n1, b1, p1 = plt.hist(recon_lengths_flat, histtype='step', label='reconstructed track lengths', bins=bins)\n",
    "#plt.xlim(0, 1.0, 0.1)\n",
    "plt.xlabel('Track length (s)', fontsize=24)\n",
    "plt.ylabel('Counts', fontsize=24)\n",
    "plt.legend(fontsize=12, loc=0)\n",
    "#plt.savefig('../data_from_Christine/sim_v_recon_track_length_hist.png')\n",
    "plt.show()"
   ]
  },
  {
   "cell_type": "code",
   "execution_count": 9,
   "metadata": {},
   "outputs": [],
   "source": [
    "track_length_error_first_track = []\n",
    "#freq_error_first_track = []\n",
    "for i in range(len(recon_track_lengths)):\n",
    "    if recon_start_times[i][0] < true_start_times[i][0]:\n",
    "        track_length_error_first_track.append(recon_track_lengths[i][0]-true_track_lengths[i][0])\n",
    "    else:\n",
    "        for j in range(len(true_track_lengths[i])):\n",
    "            try:\n",
    "                if (recon_start_times[i][0] >= true_start_times[i][j]) & (recon_start_times[i][0] < true_start_times[i][j+1]):\n",
    "                    track_length_error_first_track.append(recon_track_lengths[i][0]-true_track_lengths[i][j])\n",
    "            #when there is no j+1 because it is iterating through the last item in true track length list\n",
    "            except IndexError:\n",
    "                if recon_start_times[i][0] >= true_start_times[i][j]:\n",
    "                    track_length_error_first_track.append(recon_track_lengths[i][0]-true_track_lengths[i][j])\n",
    "                break"
   ]
  },
  {
   "cell_type": "code",
   "execution_count": 10,
   "metadata": {},
   "outputs": [
    {
     "data": {
      "text/plain": [
       "23802"
      ]
     },
     "execution_count": 10,
     "metadata": {},
     "output_type": "execute_result"
    }
   ],
   "source": [
    "len(track_length_error_first_track)"
   ]
  },
  {
   "cell_type": "code",
   "execution_count": 11,
   "metadata": {},
   "outputs": [
    {
     "data": {
      "image/png": "[encoded data removed]",
      "text/plain": [
       "<Figure size 432x288 with 1 Axes>"
      ]
     },
     "metadata": {
      "needs_background": "light"
     },
     "output_type": "display_data"
    }
   ],
   "source": [
    "##### plotting a histogram of track length error\n",
    "plt.figure()\n",
    "plt.tight_layout()\n",
    "plt.title('Track Length Error of the First Reconstructed Track', fontsize=14)\n",
    "plt.hist(track_length_error_first_track, bins=np.arange(np.min(track_length_error_first_track), np.max(track_length_error_first_track), 0.00005))\n",
    "plt.xlabel('Track Length Error (s)', fontsize=14)\n",
    "plt.ylabel('Counts', fontsize=14)\n",
    "plt.yscale('log')\n",
    "#plt.savefig('../data_from_Christine/track_length_error_hist_first_track.png')\n",
    "plt.show()"
   ]
  },
  {
   "cell_type": "code",
   "execution_count": 12,
   "metadata": {},
   "outputs": [
    {
     "data": {
      "image/png": "[encoded data removed]",
      "text/plain": [
       "<Figure size 1152x331.2 with 4 Axes>"
      ]
     },
     "metadata": {
      "needs_background": "light"
     },
     "output_type": "display_data"
    }
   ],
   "source": [
    "max_freq_error = np.max(freq_error)\n",
    "min_freq_error = np.min(freq_error)\n",
    "fig, ax = plt.subplots(1, 2, figsize=(16, 4.6))\n",
    "#plt.tight_layout()\n",
    "ax[0].set_xlabel('Track Length Error (s)', fontsize=14)\n",
    "ax[0].set_ylabel('Frequency Error (MHz)', fontsize=14)\n",
    "ax[0].tick_params(axis='both', labelsize=14)\n",
    "hist0 = ax[0].hist2d(track_length_error_first_track, freq_error/10e6, norm=colors.LogNorm())\n",
    "plt.colorbar(hist0[3], ax=ax[0])\n",
    "ax[1].set_xlabel('Track Length (s)', fontsize=14)\n",
    "ax[1].set_ylabel('Frequency Error (MHz)', fontsize=14)\n",
    "ax[1].tick_params(axis='both', labelsize=14)\n",
    "hist1 = ax[1].hist2d([track[0] for track in true_track_lengths], freq_error/10e6, norm=colors.LogNorm())\n",
    "plt.colorbar(hist1[3], ax=ax[1])\n",
    "#plt.grid()\n",
    "#plt.savefig('../data_from_Christine/track_length_freq_error_first_track.png')\n",
    "plt.show()"
   ]
  },
  {
   "cell_type": "code",
   "execution_count": 16,
   "metadata": {},
   "outputs": [],
   "source": [
    "with open('../data_from_Christine/track_length.json', 'w') as length_file:\n",
    "    json.dump([track[0] for track in true_track_lengths], length_file)\n",
    "    \n",
    "with open('../data_from_Christine/track_length_error.json', 'w') as length_error_file:\n",
    "    json.dump(track_length_error_first_track, length_error_file)"
   ]
  },
  {
   "cell_type": "code",
   "execution_count": null,
   "metadata": {},
   "outputs": [],
   "source": []
  }
 ],
 "metadata": {
  "kernelspec": {
   "display_name": "Python 3",
   "language": "python",
   "name": "python3"
  },
  "language_info": {
   "codemirror_mode": {
    "name": "ipython",
    "version": 3
   },
   "file_extension": ".py",
   "mimetype": "text/x-python",
   "name": "python",
   "nbconvert_exporter": "python",
   "pygments_lexer": "ipython3",
   "version": "3.6.3"
  }
 },
 "nbformat": 4,
 "nbformat_minor": 4
}
