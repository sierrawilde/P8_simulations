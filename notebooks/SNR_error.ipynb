{
 "cells": [
  {
   "cell_type": "code",
   "execution_count": 1,
   "metadata": {},
   "outputs": [
    {
     "data": {
      "text/html": [
       "<style>.container { width:100% !important; }</style>"
      ],
      "text/plain": [
       "<IPython.core.display.HTML object>"
      ]
     },
     "metadata": {},
     "output_type": "display_data"
    }
   ],
   "source": [
    "import numpy as np\n",
    "import json\n",
    "import matplotlib.pyplot as plt\n",
    "from matplotlib import colors\n",
    "import os\n",
    "#from ReadKTOutputFile import *\n",
    "from IPython.core.display import display, HTML\n",
    "display(HTML(\"<style>.container { width:100% !important; }</style>\"))"
   ]
  },
  {
   "cell_type": "code",
   "execution_count": 2,
   "metadata": {},
   "outputs": [],
   "source": [
    "#filepath = '../data_from_Christine/uniform_power_and_slope.json'\n",
    "filepath = '../20200626_sierra/mega_dict.json'\n",
    "with open(filepath) as infile:\n",
    "    a = json.load(infile)"
   ]
  },
  {
   "cell_type": "code",
   "execution_count": 3,
   "metadata": {},
   "outputs": [],
   "source": [
    "#a list of the true, simulated slopes and a list of the reconstructed slopes, and those of frequencies and track start times\n",
    "true_snr_load = []\n",
    "#event total nup\n",
    "recon_nup_load = []\n",
    "#event total bins\n",
    "recon_total_bins_load = []\n",
    "true_freq_load = []\n",
    "recon_freq_load = []\n",
    "true_track_times_load = []\n",
    "recon_track_times_load = []\n",
    "    \n",
    "for event in a.keys():\n",
    "    true_snr_load.append(a[event]['simulated_snr'])\n",
    "    recon_nup_load.append(a[event]['event_total_nup_recon'])\n",
    "    recon_total_bins_load.append(a[event]['event_total_n_bins_recon'])\n",
    "    true_freq_load.append(a[event]['start_frequencies_true'][0])\n",
    "    recon_freq_load.append(a[event]['event_start_frequencies_recon'])\n",
    "    true_track_times_load.append(a[event]['start_times_true'])\n",
    "    recon_track_times_load.append(a[event]['track_start_times_recon'])"
   ]
  },
  {
   "cell_type": "code",
   "execution_count": 4,
   "metadata": {},
   "outputs": [],
   "source": [
    "#removing events that weren't reconstructed\n",
    "true_snr = []\n",
    "recon_nup = []\n",
    "recon_total_bins = []\n",
    "true_freq = []\n",
    "recon_freq = []\n",
    "true_track_times = []\n",
    "recon_track_times = []\n",
    "for i in range(len(recon_nup_load)):\n",
    "    if len(recon_freq_load[i]) > 1:\n",
    "        recon_freq_load[i] = [recon_freq_load[i][0]]\n",
    "    if len(recon_nup_load[i]) > 1:\n",
    "        recon_nup_load[i] = [recon_nup_load[i][0]]\n",
    "    if len(recon_total_bins_load[i]) > 1:\n",
    "        recon_total_bins_load[i] = [recon_total_bins_load[i][0]]\n",
    "    if (len(recon_nup_load[i]) > 0) and (len(recon_freq_load[i]) > 0):\n",
    "        true_snr.append(true_snr_load[i])\n",
    "        recon_nup.append(recon_nup_load[i])\n",
    "        recon_total_bins.append(recon_total_bins_load[i])\n",
    "        true_freq.append(true_freq_load[i])\n",
    "        recon_freq.append(recon_freq_load[i])\n",
    "        true_track_times.append(true_track_times_load[i])\n",
    "        recon_track_times.append(recon_track_times_load[i])"
   ]
  },
  {
   "cell_type": "code",
   "execution_count": 5,
   "metadata": {},
   "outputs": [],
   "source": [
    "#calculating the frequency error\n",
    "recon_freq = np.hstack(recon_freq)\n",
    "#print(len(rec_freq_list))\n",
    "rec_freq = (recon_freq+24.5e9+1.4e9-50e6)\n",
    "true_freq = np.asarray(true_freq)\n",
    "freq_error = rec_freq/1e3 - true_freq/1e3"
   ]
  },
  {
   "cell_type": "markdown",
   "metadata": {},
   "source": [
    "event_average_nup = event_total_nup_recon / event_total_n_bins_recon = average_snr-1"
   ]
  },
  {
   "cell_type": "code",
   "execution_count": 6,
   "metadata": {},
   "outputs": [],
   "source": [
    "#calculating the reconstructed snr\n",
    "recon_nup_arr = np.hstack(recon_nup)\n",
    "recon_total_bins_arr = np.hstack(recon_total_bins)\n",
    "recon_snr = 1 + recon_nup_arr / recon_total_bins_arr"
   ]
  },
  {
   "cell_type": "code",
   "execution_count": 7,
   "metadata": {},
   "outputs": [
    {
     "name": "stdout",
     "output_type": "stream",
     "text": [
      "30.105234050347633 3.8984776780677883\n"
     ]
    }
   ],
   "source": [
    "#find the min and max snr\n",
    "snr_max_r = None\n",
    "snr_min_r = None\n",
    "snr_max_s = None\n",
    "snr_min_s = None\n",
    "for sim, recon in zip(true_snr, recon_snr):\n",
    "    if snr_max_r == None:\n",
    "        snr_max_r = np.max(recon)\n",
    "    elif snr_max_r < np.max(recon):\n",
    "        snr_max_r = np.max(recon)\n",
    "    \n",
    "    if snr_min_r == None:\n",
    "        snr_min_r = np.min(recon)\n",
    "    elif snr_min_r > np.min(recon):\n",
    "        snr_min_r = np.min(recon)\n",
    "        \n",
    "    if snr_max_s == None:\n",
    "        snr_max_s = np.max(sim)\n",
    "    elif snr_max_s < np.max(sim):\n",
    "        snr_max_s = np.max(sim)\n",
    "    \n",
    "    if snr_min_s == None:\n",
    "        snr_min_s = np.min(sim)\n",
    "    elif snr_min_s > np.min(sim):\n",
    "        snr_min_s = np.min(sim)\n",
    "\n",
    "snr_max = np.max([snr_max_r, snr_max_s])\n",
    "snr_min = np.min([snr_min_r, snr_min_s])\n",
    "print(snr_max, snr_min)"
   ]
  },
  {
   "cell_type": "code",
   "execution_count": 8,
   "metadata": {},
   "outputs": [
    {
     "data": {
      "image/png": "[encoded data removed]",
      "text/plain": [
       "<Figure size 504x360 with 1 Axes>"
      ]
     },
     "metadata": {
      "needs_background": "light"
     },
     "output_type": "display_data"
    }
   ],
   "source": [
    "######################## simulation vs reconstruction plots\n",
    "plt.figure(figsize=(7,5))\n",
    "##total counts per slope\n",
    "plt.tight_layout()\n",
    "#bins = np.linspace(slope_min, slope_max, 10)\n",
    "bins = np.arange(snr_min, snr_max, 0.5)\n",
    "\n",
    "n0, b0, p0 = plt.hist(true_snr, histtype='step', label='simulated snr', bins=bins)\n",
    "n1, b1, p1 = plt.hist(recon_snr, bins=bins, histtype='step', label='reconstructed snr')\n",
    "#plt.xlim(0, 1.0, 0.1)\n",
    "plt.xlabel('SNR', fontsize=24)\n",
    "plt.ylabel('Counts', fontsize=24)\n",
    "plt.legend(fontsize=12, loc=0)\n",
    "#plt.savefig('../data_from_Christine/sim_v_recon_slope_hist.png')\n",
    "plt.show()"
   ]
  },
  {
   "cell_type": "code",
   "execution_count": 9,
   "metadata": {},
   "outputs": [
    {
     "data": {
      "text/plain": [
       "10768"
      ]
     },
     "execution_count": 9,
     "metadata": {},
     "output_type": "execute_result"
    }
   ],
   "source": [
    "len(recon_snr)"
   ]
  },
  {
   "cell_type": "code",
   "execution_count": 10,
   "metadata": {},
   "outputs": [],
   "source": [
    "snr_error = recon_snr-true_snr"
   ]
  },
  {
   "cell_type": "code",
   "execution_count": 11,
   "metadata": {},
   "outputs": [
    {
     "data": {
      "image/png": "[encoded data removed]",
      "text/plain": [
       "<Figure size 432x288 with 1 Axes>"
      ]
     },
     "metadata": {
      "needs_background": "light"
     },
     "output_type": "display_data"
    }
   ],
   "source": [
    "##### plotting a histogram of slope error\n",
    "plt.figure()\n",
    "plt.tight_layout()\n",
    "plt.title('Event SNR Error', fontsize=14)\n",
    "plt.hist(snr_error, bins=np.arange(np.min(snr_error), np.max(snr_error), 0.5))\n",
    "plt.xlabel('SNR Error', fontsize=14)\n",
    "plt.ylabel('Counts', fontsize=14)\n",
    "plt.yscale('log')\n",
    "#plt.savefig('../data_from_Christine/slope_error_hist_first_track.png')\n",
    "plt.show()"
   ]
  },
  {
   "cell_type": "code",
   "execution_count": 12,
   "metadata": {},
   "outputs": [
    {
     "data": {
      "image/png": "[encoded data removed]",
      "text/plain": [
       "<Figure size 1152x331.2 with 4 Axes>"
      ]
     },
     "metadata": {
      "needs_background": "light"
     },
     "output_type": "display_data"
    }
   ],
   "source": [
    "max_freq_error = np.max(freq_error)\n",
    "min_freq_error = np.min(freq_error)\n",
    "fig, ax = plt.subplots(1, 2, figsize=(16, 4.6))\n",
    "#plt.tight_layout()\n",
    "ax[0].set_xlabel('SNR Error', fontsize=14)\n",
    "ax[0].set_ylabel('Frequency Error (kHz)', fontsize=14)\n",
    "ax[0].tick_params(axis='both', labelsize=14)\n",
    "hist0 = ax[0].hist2d(snr_error, freq_error, norm=colors.LogNorm())\n",
    "plt.colorbar(hist0[3], ax=ax[0])\n",
    "ax[1].set_xlabel('SNR', fontsize=14)\n",
    "ax[1].set_ylabel('Frequency Error (kHz)', fontsize=14)\n",
    "ax[1].tick_params(axis='both', labelsize=14)\n",
    "hist1 = ax[1].hist2d(true_snr, freq_error, norm=colors.LogNorm())\n",
    "plt.colorbar(hist1[3], ax=ax[1])\n",
    "#plt.grid()\n",
    "#plt.savefig('../data_from_Christine/slope_freq_error_first_track.png')\n",
    "plt.show()"
   ]
  },
  {
   "cell_type": "code",
   "execution_count": 13,
   "metadata": {},
   "outputs": [],
   "source": [
    "with open('../20200626_sierra/snr.json', 'w') as snr_file:\n",
    "    json.dump(true_snr, snr_file)\n",
    "    \n",
    "with open('../20200626_sierra/snr_error.json', 'w') as snr_error_file:\n",
    "    json.dump(snr_error.tolist(), snr_error_file)"
   ]
  },
  {
   "cell_type": "code",
   "execution_count": 14,
   "metadata": {},
   "outputs": [
    {
     "data": {
      "text/plain": [
       "-5.58914727494311"
      ]
     },
     "execution_count": 14,
     "metadata": {},
     "output_type": "execute_result"
    }
   ],
   "source": [
    "np.mean(snr_error)"
   ]
  },
  {
   "cell_type": "code",
   "execution_count": 15,
   "metadata": {},
   "outputs": [
    {
     "data": {
      "text/plain": [
       "3.7419273340678285"
      ]
     },
     "execution_count": 15,
     "metadata": {},
     "output_type": "execute_result"
    }
   ],
   "source": [
    "np.std(snr_error)"
   ]
  },
  {
   "cell_type": "code",
   "execution_count": null,
   "metadata": {},
   "outputs": [],
   "source": []
  }
 ],
 "metadata": {
  "kernelspec": {
   "display_name": "Python 3",
   "language": "python",
   "name": "python3"
  },
  "language_info": {
   "codemirror_mode": {
    "name": "ipython",
    "version": 3
   },
   "file_extension": ".py",
   "mimetype": "text/x-python",
   "name": "python",
   "nbconvert_exporter": "python",
   "pygments_lexer": "ipython3",
   "version": "3.6.3"
  }
 },
 "nbformat": 4,
 "nbformat_minor": 4
}
